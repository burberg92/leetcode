{
 "cells": [
  {
   "cell_type": "markdown",
   "metadata": {},
   "source": [
    "Object Oriented Python\n",
    "\n",
    "* Class - a blueprint for creating objects. Classes encapsulate data for the object and methods to manipulate that data \n",
    "\n",
    "* Object - an instance of a class \n",
    "\n",
    "* Method - a function defined in a class\n",
    "\n",
    "* Attribute - also called property, a variable stored in an object \n",
    "\n",
    "* Inheriteance - Acquairing the properties and methods of an exissiting class\n",
    "\n",
    "* Encapsulation - hiding the internal states of an object and requiring all interaction to be performed through an object's methods. \n",
    "\n",
    "* Polymorphism - Allowing methods to do different things based on the object it is acting upon, even though they share the same name."
   ]
  },
  {
   "cell_type": "code",
   "execution_count": 8,
   "metadata": {},
   "outputs": [
    {
     "data": {
      "text/plain": [
       "5000"
      ]
     },
     "execution_count": 8,
     "metadata": {},
     "output_type": "execute_result"
    }
   ],
   "source": [
    "#for methods we should always define self as the first arguement(so that python can pass the instance to the itself and access any attributes), then any other arguements\n",
    "class Item:\n",
    "    pass\n",
    "    def calculate_total_price(self, x, y):\n",
    "        return x * y \n",
    "\n",
    "#this creates an instance of the class Item\n",
    "item1 = Item()\n",
    "\n",
    "#this adds attributes to the instance\n",
    "item1.name = \"Phone\"\n",
    "item1.price = 100\n",
    "item1.quantity = 5\n",
    "\n",
    "item2 = Item()\n",
    "#this adds attributes to the instance\n",
    "item2.name = \"laptop\"\n",
    "item2.price = 1000\n",
    "item2.quantity = 5\n",
    "\n",
    "item2.calculate_total_price(item2.price, item2.quantity)"
   ]
  },
  {
   "cell_type": "markdown",
   "metadata": {},
   "source": [
    "In the example above the class Item was created without a constructor \"init\", the init constructot is used to create a class with initial values. "
   ]
  },
  {
   "cell_type": "code",
   "execution_count": 9,
   "metadata": {},
   "outputs": [
    {
     "name": "stdout",
     "output_type": "stream",
     "text": [
      "John Doe\n",
      "25\n"
     ]
    }
   ],
   "source": [
    "# In this example we do use __init__ which forces an instance to have the attributes name and age\n",
    "\n",
    "class Person:\n",
    "    def __init__(self, name, age):\n",
    "        self.name = name  # initializes name attribute with the passed name value\n",
    "        self.age = age    # initializes age attribute with the passed age value\n",
    "\n",
    "# Instantiating an object of the class Person\n",
    "person1 = Person('John Doe', 25)\n",
    "\n",
    "# Now, person1 is a new object of class Person, with a name of 'John Doe' and age of 25.\n",
    "print(person1.name)  # Outputs: John Doe\n",
    "print(person1.age)   # Outputs: 25\n"
   ]
  },
  {
   "cell_type": "code",
   "execution_count": 11,
   "metadata": {},
   "outputs": [
    {
     "ename": "TypeError",
     "evalue": "__init__() missing 1 required positional argument: 'age'",
     "output_type": "error",
     "traceback": [
      "\u001b[0;31m---------------------------------------------------------------------------\u001b[0m",
      "\u001b[0;31mTypeError\u001b[0m                                 Traceback (most recent call last)",
      "\u001b[1;32m/Users/rodrigoburberg/Desktop/fastapi_social_mdia/object_oriented.ipynb Cell 5\u001b[0m line \u001b[0;36m2\n\u001b[1;32m      <a href='vscode-notebook-cell:/Users/rodrigoburberg/Desktop/fastapi_social_mdia/object_oriented.ipynb#X13sZmlsZQ%3D%3D?line=0'>1</a>\u001b[0m \u001b[39m# in this example we can see that we get an error because the class is expecting name and age, and we only passed in name\u001b[39;00m\n\u001b[0;32m----> <a href='vscode-notebook-cell:/Users/rodrigoburberg/Desktop/fastapi_social_mdia/object_oriented.ipynb#X13sZmlsZQ%3D%3D?line=1'>2</a>\u001b[0m person1 \u001b[39m=\u001b[39m Person(\u001b[39m'\u001b[39;49m\u001b[39mJane Smith\u001b[39;49m\u001b[39m'\u001b[39;49m)\n",
      "\u001b[0;31mTypeError\u001b[0m: __init__() missing 1 required positional argument: 'age'"
     ]
    }
   ],
   "source": [
    "# in this example we can see that we get an error because the class is expecting name and age, and we only passed in name\n",
    "person1 = Person('Jane Smith')"
   ]
  },
  {
   "cell_type": "markdown",
   "metadata": {},
   "source": []
  },
  {
   "cell_type": "code",
   "execution_count": 12,
   "metadata": {},
   "outputs": [],
   "source": [
    "# in this example quantity is optional and will get a default value of 0 \n",
    "\n",
    "class Item:\n",
    "    def __init__(self, name, price, quantity = 0):\n",
    "        self.name = name \n",
    "        self.price = price\n",
    "        self.quantity = quantity \n",
    "    \n",
    "    def calculate_total_price(self):\n",
    "        return self.price * self.quantity "
   ]
  },
  {
   "cell_type": "code",
   "execution_count": 15,
   "metadata": {},
   "outputs": [
    {
     "name": "stdout",
     "output_type": "stream",
     "text": [
      "0\n",
      "200\n"
     ]
    }
   ],
   "source": [
    "#for item1 we did not pass the quantity and defaulted to 0, for item2 we gave it a value of 2\n",
    "\n",
    "item1 = Item(\"car\", 100)\n",
    "\n",
    "print(item1.calculate_total_price())\n",
    "\n",
    "item2 = Item('truck', 100, 2)\n",
    "\n",
    "print(item2.calculate_total_price())"
   ]
  },
  {
   "cell_type": "markdown",
   "metadata": {},
   "source": [
    "* We can also specify the data types of the values passing in \n",
    "this is helpful to prevent values being a data type we do not\n",
    "want\n",
    "\n",
    "* we can also validate certain conditions for example we do not want a negative price or negative quantity "
   ]
  },
  {
   "cell_type": "code",
   "execution_count": 31,
   "metadata": {},
   "outputs": [],
   "source": [
    "class Item:\n",
    "    def __init__(self, name: str, price: int, quantity:int = 0):\n",
    "        #run validations to the recieved arguements\n",
    "        assert price >= 0, f'Price {price} is not greater than zero' \n",
    "        assert quantity >= 0, f'Price {quantity} is not greater than zero' \n",
    "        \n",
    "        #assign self to object\n",
    "        self.name = name \n",
    "        self.price = price\n",
    "        self.quantity = quantity \n",
    "    \n",
    "    def calculate_total_price(self):\n",
    "        return self.price * self.quantity "
   ]
  },
  {
   "cell_type": "code",
   "execution_count": 33,
   "metadata": {},
   "outputs": [
    {
     "ename": "AssertionError",
     "evalue": "Price -2 is not greater than zero",
     "output_type": "error",
     "traceback": [
      "\u001b[0;31m---------------------------------------------------------------------------\u001b[0m",
      "\u001b[0;31mAssertionError\u001b[0m                            Traceback (most recent call last)",
      "\u001b[1;32m/Users/rodrigoburberg/Desktop/fastapi_social_mdia/object_oriented.ipynb Cell 12\u001b[0m line \u001b[0;36m1\n\u001b[0;32m----> <a href='vscode-notebook-cell:/Users/rodrigoburberg/Desktop/fastapi_social_mdia/object_oriented.ipynb#X21sZmlsZQ%3D%3D?line=0'>1</a>\u001b[0m item3 \u001b[39m=\u001b[39m Item(\u001b[39m'\u001b[39;49m\u001b[39mtruck\u001b[39;49m\u001b[39m'\u001b[39;49m, \u001b[39m100\u001b[39;49m, \u001b[39m-\u001b[39;49m\u001b[39m2\u001b[39;49m)\n",
      "\u001b[1;32m/Users/rodrigoburberg/Desktop/fastapi_social_mdia/object_oriented.ipynb Cell 12\u001b[0m line \u001b[0;36m5\n\u001b[1;32m      <a href='vscode-notebook-cell:/Users/rodrigoburberg/Desktop/fastapi_social_mdia/object_oriented.ipynb#X21sZmlsZQ%3D%3D?line=1'>2</a>\u001b[0m \u001b[39mdef\u001b[39;00m \u001b[39m__init__\u001b[39m(\u001b[39mself\u001b[39m, name: \u001b[39mstr\u001b[39m, price: \u001b[39mint\u001b[39m, quantity:\u001b[39mint\u001b[39m \u001b[39m=\u001b[39m \u001b[39m0\u001b[39m):\n\u001b[1;32m      <a href='vscode-notebook-cell:/Users/rodrigoburberg/Desktop/fastapi_social_mdia/object_oriented.ipynb#X21sZmlsZQ%3D%3D?line=2'>3</a>\u001b[0m     \u001b[39m#run validations to the recieved arguements\u001b[39;00m\n\u001b[1;32m      <a href='vscode-notebook-cell:/Users/rodrigoburberg/Desktop/fastapi_social_mdia/object_oriented.ipynb#X21sZmlsZQ%3D%3D?line=3'>4</a>\u001b[0m     \u001b[39massert\u001b[39;00m price \u001b[39m>\u001b[39m\u001b[39m=\u001b[39m \u001b[39m0\u001b[39m, \u001b[39mf\u001b[39m\u001b[39m'\u001b[39m\u001b[39mPrice \u001b[39m\u001b[39m{\u001b[39;00mprice\u001b[39m}\u001b[39;00m\u001b[39m is not greater than zero\u001b[39m\u001b[39m'\u001b[39m \n\u001b[0;32m----> <a href='vscode-notebook-cell:/Users/rodrigoburberg/Desktop/fastapi_social_mdia/object_oriented.ipynb#X21sZmlsZQ%3D%3D?line=4'>5</a>\u001b[0m     \u001b[39massert\u001b[39;00m quantity \u001b[39m>\u001b[39m\u001b[39m=\u001b[39m \u001b[39m0\u001b[39m, \u001b[39mf\u001b[39m\u001b[39m'\u001b[39m\u001b[39mPrice \u001b[39m\u001b[39m{\u001b[39;00mquantity\u001b[39m}\u001b[39;00m\u001b[39m is not greater than zero\u001b[39m\u001b[39m'\u001b[39m \n\u001b[1;32m      <a href='vscode-notebook-cell:/Users/rodrigoburberg/Desktop/fastapi_social_mdia/object_oriented.ipynb#X21sZmlsZQ%3D%3D?line=6'>7</a>\u001b[0m     \u001b[39m#assign self to object\u001b[39;00m\n\u001b[1;32m      <a href='vscode-notebook-cell:/Users/rodrigoburberg/Desktop/fastapi_social_mdia/object_oriented.ipynb#X21sZmlsZQ%3D%3D?line=7'>8</a>\u001b[0m     \u001b[39mself\u001b[39m\u001b[39m.\u001b[39mname \u001b[39m=\u001b[39m name \n",
      "\u001b[0;31mAssertionError\u001b[0m: Price -2 is not greater than zero"
     ]
    }
   ],
   "source": [
    "# as expected we get an error\n",
    "item3 = Item('truck', 100, -2)"
   ]
  },
  {
   "cell_type": "markdown",
   "metadata": {},
   "source": [
    "Class attributes - attributes that belong to the class itself not the object/instance \n",
    "* they will be inhereted to the instance, however if the instance gets assigned that same attribute it will overide the class attribute"
   ]
  },
  {
   "cell_type": "code",
   "execution_count": 35,
   "metadata": {},
   "outputs": [],
   "source": [
    "class Item:\n",
    "    department = 'clothing'\n",
    "    def __init__(self, name: str, price: int, quantity:int = 0):\n",
    "        \n",
    "        #assign self to object\n",
    "        self.name = name \n",
    "        self.price = price\n",
    "        self.quantity = quantity "
   ]
  },
  {
   "cell_type": "code",
   "execution_count": 40,
   "metadata": {},
   "outputs": [
    {
     "name": "stdout",
     "output_type": "stream",
     "text": [
      "clothing\n",
      "food\n",
      "{'__module__': '__main__', 'department': 'clothing', '__init__': <function Item.__init__ at 0x7fd8ef50b940>, '__dict__': <attribute '__dict__' of 'Item' objects>, '__weakref__': <attribute '__weakref__' of 'Item' objects>, '__doc__': None}\n",
      "{'name': 'truck', 'price': 100, 'quantity': 0, 'department': 'food'}\n"
     ]
    }
   ],
   "source": [
    "#department is a class attribute as defined above\n",
    "\n",
    "item4 = Item('truck', 100, 0)\n",
    "\n",
    "print(item4.department)\n",
    "\n",
    "# here we are overriding the class level attribute in this instance\n",
    "\n",
    "item4.department = 'food'\n",
    "\n",
    "print(item4.department)\n",
    "\n",
    "#we can also see all the attributes using __dict__ method\n",
    "#class level attributes \n",
    "print(Item.__dict__)\n",
    "print(item4.__dict__)"
   ]
  },
  {
   "cell_type": "markdown",
   "metadata": {},
   "source": [
    "How do we access payrate (a class level attribute in our methods)?  -->  Item.pay_rate\n",
    "see the apply_discount method for example:"
   ]
  },
  {
   "cell_type": "code",
   "execution_count": 41,
   "metadata": {},
   "outputs": [],
   "source": [
    "class Item:\n",
    "    pay_rate = 0.8 \n",
    "    def __init__(self, name: str, price: int, quantity:int = 0):\n",
    "        #run validations to the recieved arguements\n",
    "        assert price >= 0, f'Price {price} is not greater than zero' \n",
    "        assert quantity >= 0, f'Price {quantity} is not greater than zero' \n",
    "        \n",
    "        #assign self to object\n",
    "        self.name = name \n",
    "        self.price = price\n",
    "        self.quantity = quantity \n",
    "    \n",
    "    def calculate_total_price(self):\n",
    "        return self.price * self.quantity\n",
    "    \n",
    "    # to access payrate we need to do Item.pay_rate since it is a class level attribute, here we are overriding the price of the instance when calling this method\n",
    "    def apply_discount(self):\n",
    "        self.price = self.price * Item.pay_rate"
   ]
  },
  {
   "cell_type": "code",
   "execution_count": 42,
   "metadata": {},
   "outputs": [
    {
     "name": "stdout",
     "output_type": "stream",
     "text": [
      "80.0\n"
     ]
    }
   ],
   "source": [
    "item1 = Item(\"iphone\", 100, 1)\n",
    "item1.apply_discount()\n",
    "print(item1.price)"
   ]
  },
  {
   "cell_type": "code",
   "execution_count": 45,
   "metadata": {},
   "outputs": [
    {
     "name": "stdout",
     "output_type": "stream",
     "text": [
      "80.0\n"
     ]
    }
   ],
   "source": [
    "#if we want to change the default pay_rate we can assign it to that specific instance\n",
    "\n",
    "#However in the method we still have Item.pay_rate, so it still gets it from the class level, to solve this we should instead change the apply_discount method \n",
    "item1 = Item(\"iphone\", 100, 1)\n",
    "item1.pay_rate = .5\n",
    "item1.apply_discount()\n",
    "print(item1.price)"
   ]
  },
  {
   "cell_type": "code",
   "execution_count": 46,
   "metadata": {},
   "outputs": [],
   "source": [
    "# we have now changed the function so that \n",
    "\n",
    "# self.price = self.price * self.pay_rate, \n",
    "\n",
    "# this is best practice since we will always use the instance level attribute, if it exsists, and if it doesn't it will use the class level pay_rate \n",
    "\n",
    "class Item:\n",
    "    pay_rate = 0.8 \n",
    "    def __init__(self, name: str, price: int, quantity:int = 0):\n",
    "        #run validations to the recieved arguements\n",
    "        assert price >= 0, f'Price {price} is not greater than zero' \n",
    "        assert quantity >= 0, f'Price {quantity} is not greater than zero' \n",
    "        \n",
    "        #assign self to object\n",
    "        self.name = name \n",
    "        self.price = price\n",
    "        self.quantity = quantity \n",
    "    \n",
    "    def calculate_total_price(self):\n",
    "        return self.price * self.quantity\n",
    "    \n",
    "    # to access payrate we need to do Item.pay_rate since it is a class level attribute, here we are overriding the price of the instance when calling this method\n",
    "    def apply_discount(self):\n",
    "        self.price = self.price * self.pay_rate"
   ]
  },
  {
   "cell_type": "code",
   "execution_count": 48,
   "metadata": {},
   "outputs": [
    {
     "name": "stdout",
     "output_type": "stream",
     "text": [
      "50.0\n"
     ]
    }
   ],
   "source": [
    "# here we can see that the instance level attribute was used\n",
    "item1 = Item(\"iphone\", 100, 1)\n",
    "item1.pay_rate = .5\n",
    "item1.apply_discount()\n",
    "print(item1.price)"
   ]
  },
  {
   "cell_type": "markdown",
   "metadata": {},
   "source": [
    "What is we wanted a list of all the instances that have been created?\n",
    "\n",
    "we can created a class level attribute called all = []\n",
    "- which is a list of all instances\n",
    "\n",
    "we then add the following code:\n",
    "- Item.all.append(self)\n",
    "\n",
    "- where self is the instance itself\n",
    "\n",
    "We can then check all instances using:\n",
    "- Item.all"
   ]
  },
  {
   "cell_type": "code",
   "execution_count": 50,
   "metadata": {},
   "outputs": [],
   "source": [
    "class Item:\n",
    "    pay_rate = 0.8 \n",
    "    all = []\n",
    "    def __init__(self, name: str, price: int, quantity:int = 0):\n",
    "        #run validations to the recieved arguements\n",
    "        assert price >= 0, f'Price {price} is not greater than zero' \n",
    "        assert quantity >= 0, f'Price {quantity} is not greater than zero' \n",
    "        \n",
    "        #assign self to object\n",
    "        self.name = name \n",
    "        self.price = price\n",
    "        self.quantity = quantity \n",
    "    \n",
    "        #Actions to execute\n",
    "        Item.all.append(self)\n",
    "\n",
    "    def calculate_total_price(self):\n",
    "        return self.price * self.quantity\n",
    "    \n",
    "    # to access payrate we need to do Item.pay_rate since it is a class level attribute, here we are overriding the price of the instance when calling this method\n",
    "    def apply_discount(self):\n",
    "        self.price = self.price * self.pay_rate\n",
    "\n",
    "item1 = Item(\"Phone\", 100, 1)\n",
    "item2 = Item(\"Laptop\", 1000, 3)\n",
    "item3 = Item(\"Cable\", 10, 5)\n",
    "item4 = Item(\"Mouse\", 50, 5)\n",
    "item5 = Item(\"Keyboard\", 75, 5)"
   ]
  },
  {
   "cell_type": "code",
   "execution_count": 58,
   "metadata": {},
   "outputs": [
    {
     "data": {
      "text/plain": [
       "[<__main__.Item at 0x7fd8ef598430>,\n",
       " <__main__.Item at 0x7fd8ef5984f0>,\n",
       " <__main__.Item at 0x7fd8eec4d5e0>,\n",
       " <__main__.Item at 0x7fd8ee630fa0>,\n",
       " <__main__.Item at 0x7fd8ee6301c0>]"
      ]
     },
     "execution_count": 58,
     "metadata": {},
     "output_type": "execute_result"
    }
   ],
   "source": [
    "# we can see all instances, not very friendly output \n",
    "Item.all"
   ]
  },
  {
   "cell_type": "code",
   "execution_count": 56,
   "metadata": {},
   "outputs": [
    {
     "name": "stdout",
     "output_type": "stream",
     "text": [
      "Phone\n",
      "Laptop\n",
      "Cable\n",
      "Mouse\n",
      "Keyboard\n"
     ]
    }
   ],
   "source": [
    "#printing the name of all instances\n",
    "for i in Item.all:\n",
    "    print(i.name)"
   ]
  },
  {
   "cell_type": "markdown",
   "metadata": {},
   "source": [
    "As it is, Item.all gives of the list of instances, but not in a readable manner. We can modify the output using a magic method called repr"
   ]
  },
  {
   "cell_type": "code",
   "execution_count": 57,
   "metadata": {},
   "outputs": [
    {
     "data": {
      "text/plain": [
       "[<__main__.Item at 0x7fd8ef598430>,\n",
       " <__main__.Item at 0x7fd8ef5984f0>,\n",
       " <__main__.Item at 0x7fd8eec4d5e0>,\n",
       " <__main__.Item at 0x7fd8ee630fa0>,\n",
       " <__main__.Item at 0x7fd8ee6301c0>]"
      ]
     },
     "execution_count": 57,
     "metadata": {},
     "output_type": "execute_result"
    }
   ],
   "source": [
    "# not very friendly output \n",
    "# Item.all\n"
   ]
  },
  {
   "cell_type": "code",
   "execution_count": 62,
   "metadata": {},
   "outputs": [],
   "source": [
    "class Item:\n",
    "    pay_rate = 0.8 \n",
    "    all = []\n",
    "    def __init__(self, name: str, price: int, quantity:int = 0):\n",
    "        #run validations to the recieved arguements\n",
    "        assert price >= 0, f'Price {price} is not greater than zero' \n",
    "        assert quantity >= 0, f'Price {quantity} is not greater than zero' \n",
    "        \n",
    "        #assign self to object\n",
    "        self.name = name \n",
    "        self.price = price\n",
    "        self.quantity = quantity \n",
    "    \n",
    "        #Actions to execute\n",
    "        Item.all.append(self)\n",
    "\n",
    "    def calculate_total_price(self):\n",
    "        return self.price * self.quantity\n",
    "    \n",
    "    # to access payrate we need to do Item.pay_rate since it is a class level attribute, here we are overriding the price of the instance when calling this method\n",
    "    def apply_discount(self):\n",
    "        self.price = self.price * self.pay_rate\n",
    "\n",
    "    #modifying output in more readable format\n",
    "    def __repr__(self):\n",
    "        return f\"Item('{self.name}', {self.price}, {self.quantity})\"\n",
    "\n",
    "item1 = Item(\"Phone\", 100, 1)\n",
    "item2 = Item(\"Laptop\", 1000, 3)\n",
    "item3 = Item(\"Cable\", 10, 5)\n",
    "item4 = Item(\"Mouse\", 50, 5)\n",
    "item5 = Item(\"Keyboard\", 75, 5)"
   ]
  },
  {
   "cell_type": "code",
   "execution_count": 63,
   "metadata": {},
   "outputs": [
    {
     "data": {
      "text/plain": [
       "[Item('Phone', 100, 1),\n",
       " Item('Laptop', 1000, 3),\n",
       " Item('Cable', 10, 5),\n",
       " Item('Mouse', 50, 5),\n",
       " Item('Keyboard', 75, 5)]"
      ]
     },
     "execution_count": 63,
     "metadata": {},
     "output_type": "execute_result"
    }
   ],
   "source": [
    "#modifying output in more readable format\n",
    "\n",
    "#this was added:\n",
    "\n",
    "#def __repr__(self):\n",
    "#    return f\"Item('{self.name}, {self.price}, {self.quantity}')\"\n",
    "\n",
    "Item.all"
   ]
  },
  {
   "cell_type": "markdown",
   "metadata": {},
   "source": [
    "What if we have a csv, and want to instantiate all rows?\n",
    "\n",
    "we will create a method called instantiate_from_csv, to take care of this. \n",
    "\n",
    "We will not call this method on an instance, since this method is to instanciate\n",
    "* meaning this is a class method\n",
    "* It will be called as following:\n",
    "    - Item.instantiate_from_csv()  \n",
    "\n",
    "To create a class method, we need to add:\n",
    "* @classmethod, in the line above the method definition\n",
    "* Instead of using _self_, we need to use _cls_, the class itself is passed as an arguement"
   ]
  },
  {
   "cell_type": "code",
   "execution_count": null,
   "metadata": {},
   "outputs": [],
   "source": [
    "import csv \n",
    "...rest of code\n",
    "@classmethod\n",
    "def instantiate_from_csv(cls):\n",
    "    with open('items.csv', 'r') as f:\n",
    "        reader = csv.DictReader(f)\n",
    "        items = list(reader)\n",
    "    for item in items:\n",
    "        Item(\n",
    "            names = item.get('name'), \n",
    "            price = item.get('price'), \n",
    "            quantity = item.get('quantity'), \n",
    "        )\n",
    "...rest of code\n",
    "    \n",
    "    "
   ]
  },
  {
   "cell_type": "code",
   "execution_count": 83,
   "metadata": {},
   "outputs": [],
   "source": [
    "import csv\n",
    "class Item:\n",
    "    pay_rate = 0.8 \n",
    "    all = []\n",
    "    def __init__(self, name: str, price: int, quantity:int = 0):\n",
    "        #run validations to the recieved arguements\n",
    "        assert price >= 0, f'Price {price} is not greater than zero' \n",
    "        assert quantity >= 0, f'Price {quantity} is not greater than zero' \n",
    "        \n",
    "        #assign self to object\n",
    "        self.name = name \n",
    "        self.price = price\n",
    "        self.quantity = quantity \n",
    "    \n",
    "        #Actions to execute\n",
    "        Item.all.append(self)\n",
    "\n",
    "    def calculate_total_price(self):\n",
    "        return self.price * self.quantity\n",
    "    \n",
    "    # to access payrate we need to do Item.pay_rate since it is a class level attribute, here we are overriding the price of the instance when calling this method\n",
    "    def apply_discount(self):\n",
    "        self.price = self.price * self.pay_rate\n",
    "\n",
    "    #class method to instantitate from csv\n",
    "    @classmethod\n",
    "    def instantiate_from_csv(cls):\n",
    "        with open('items.csv', 'r') as f:\n",
    "            reader = csv.DictReader(f)\n",
    "            items = list(reader)\n",
    "        for item in items:\n",
    "            Item(\n",
    "                name = item.get('name'), \n",
    "                price = float(item.get('price')), \n",
    "                quantity = int(item.get('quantity')), )\n",
    "\n",
    "    #modifying output in more readable format\n",
    "    def __repr__(self):\n",
    "        return f\"Item('{self.name}', {self.price}, {self.quantity})\"\n"
   ]
  },
  {
   "cell_type": "code",
   "execution_count": 84,
   "metadata": {},
   "outputs": [],
   "source": [
    "Item.instantiate_from_csv()"
   ]
  },
  {
   "cell_type": "code",
   "execution_count": 85,
   "metadata": {},
   "outputs": [
    {
     "data": {
      "text/plain": [
       "[Item('Phone', 100.0, 1),\n",
       " Item('Laptop', 1000.0, 3),\n",
       " Item('Cable', 10.0, 5),\n",
       " Item('Mouse', 50.0, 5),\n",
       " Item('Keyboard', 75.0, 5),\n",
       " Item('sextoy', 10000.0, 2)]"
      ]
     },
     "execution_count": 85,
     "metadata": {},
     "output_type": "execute_result"
    }
   ],
   "source": [
    "Item.all"
   ]
  },
  {
   "cell_type": "code",
   "execution_count": null,
   "metadata": {},
   "outputs": [],
   "source": []
  },
  {
   "cell_type": "markdown",
   "metadata": {},
   "source": [
    "Static method - class methods that do not need to access or modify any state of the class or object\n",
    " \n",
    "* created using @staticmethod decorator\n",
    "\n",
    "* no self parameter needed - Static methods work with arguements that are passed to them, not the class attributes themselfs, thus they do the self parameter\n",
    "\n",
    "Static methods are just like normal standalone functions, but might be worth implementing if it is associated with the class\n"
   ]
  },
  {
   "cell_type": "code",
   "execution_count": 86,
   "metadata": {},
   "outputs": [
    {
     "ename": "SyntaxError",
     "evalue": "invalid syntax (2535879883.py, line 3)",
     "output_type": "error",
     "traceback": [
      "\u001b[0;36m  Cell \u001b[0;32mIn[86], line 3\u001b[0;36m\u001b[0m\n\u001b[0;31m    if int(a) == a\u001b[0m\n\u001b[0m                  ^\u001b[0m\n\u001b[0;31mSyntaxError\u001b[0m\u001b[0;31m:\u001b[0m invalid syntax\n"
     ]
    }
   ],
   "source": [
    "@staticmethod\n",
    "def is_integer(a):\n",
    "    if int(a) == a\n",
    "\n"
   ]
  },
  {
   "cell_type": "code",
   "execution_count": 96,
   "metadata": {},
   "outputs": [],
   "source": [
    "import csv\n",
    "class Item:\n",
    "    pay_rate = 0.8 \n",
    "    all = []\n",
    "    def __init__(self, name: str, price: int, quantity:int = 0):\n",
    "        #run validations to the recieved arguements\n",
    "        assert price >= 0, f'Price {price} is not greater than zero' \n",
    "        assert quantity >= 0, f'Price {quantity} is not greater than zero' \n",
    "        \n",
    "        #assign self to object\n",
    "        self.name = name \n",
    "        self.price = price\n",
    "        self.quantity = quantity \n",
    "    \n",
    "        #Actions to execute\n",
    "        Item.all.append(self)\n",
    "\n",
    "    def calculate_total_price(self):\n",
    "        return self.price * self.quantity\n",
    "    \n",
    "    # to access payrate we need to do Item.pay_rate since it is a class level attribute, here we are overriding the price of the instance when calling this method\n",
    "    def apply_discount(self):\n",
    "        self.price = self.price * self.pay_rate\n",
    "\n",
    "    #class method to instantitate from csv\n",
    "    @classmethod\n",
    "    def instantiate_from_csv(cls):\n",
    "        with open('items.csv', 'r') as f:\n",
    "            reader = csv.DictReader(f)\n",
    "            items = list(reader)\n",
    "        for item in items:\n",
    "            Item(\n",
    "                name = item.get('name'), \n",
    "                price = float(item.get('price')), \n",
    "                quantity = int(item.get('quantity')), )\n",
    "\n",
    "\n",
    "    @staticmethod\n",
    "    def is_int(a):\n",
    "        if int(a) == a:\n",
    "            return True \n",
    "        else:\n",
    "            return False\n",
    "    #modifying output in more readable format\n",
    "    def __repr__(self):\n",
    "        return f\"Item('{self.__class__.__name__}{self.name}', {self.price}, {self.quantity})\""
   ]
  },
  {
   "cell_type": "code",
   "execution_count": 88,
   "metadata": {},
   "outputs": [
    {
     "data": {
      "text/plain": [
       "False"
      ]
     },
     "execution_count": 88,
     "metadata": {},
     "output_type": "execute_result"
    }
   ],
   "source": [
    "Item.is_int(2.3)"
   ]
  },
  {
   "cell_type": "markdown",
   "metadata": {},
   "source": [
    "### Parent and Child Classes\n",
    "\n",
    "Suppose that we have some special attributes for phones, such as is_smartphone, which do not apply to all items. \n",
    "\n",
    "We should create another class and have the Item class be the parent class and the Phone class be the child class. \n",
    "\n",
    "The Phone class will inheret all attributes and methods from the Item class\n",
    "\n",
    "to do this we need to:\n",
    "- class Phone(Item):\n",
    "\n",
    "- here we pass the Item as the arguement to the Phone class.\n",
    "\n",
    "- a root parent class does not take any arguements\n",
    "\n",
    "- there are no limit of child classes"
   ]
  },
  {
   "cell_type": "code",
   "execution_count": 102,
   "metadata": {},
   "outputs": [],
   "source": [
    "class Phone(Item):\n",
    "    def __init__(self, name: str, price:float, quantity=0, broken_phone =0):\n",
    "        super().__init__(\n",
    "        name, price, quantity\n",
    "        )\n",
    "        self.broken_phones = broken_phone"
   ]
  },
  {
   "cell_type": "code",
   "execution_count": 104,
   "metadata": {},
   "outputs": [],
   "source": [
    "phone1 = Phone(\"iphone\", 100, 10, 10)"
   ]
  },
  {
   "cell_type": "markdown",
   "metadata": {},
   "source": [
    "We added the super method to import the attributes of Item"
   ]
  },
  {
   "cell_type": "code",
   "execution_count": 111,
   "metadata": {},
   "outputs": [
    {
     "name": "stdout",
     "output_type": "stream",
     "text": [
      "iPhone 1000 10 1\n"
     ]
    }
   ],
   "source": [
    "# we can also use *args and **kwargsclass Item:\n",
    "class Item:\n",
    "    def __init__(self, name, price, quantity):\n",
    "        self.name = name\n",
    "        self.price = price\n",
    "        self.quantity = quantity\n",
    "\n",
    "class Phone(Item):\n",
    "    def __init__(self, broken_phones=0, *args, **kwargs):\n",
    "        super().__init__(*args, **kwargs)\n",
    "        self.broken_phones = broken_phones\n",
    "\n",
    "# Usage:\n",
    "phone = Phone(1, \"iPhone\", 1000, 10, )\n",
    "print(phone.name, phone.price, phone.quantity, phone.broken_phones)\n"
   ]
  },
  {
   "cell_type": "markdown",
   "metadata": {},
   "source": [
    "encampsulation - strctiting access to attributes \n",
    "\n",
    "we can do this by self.__name\n",
    "\n",
    "in this manner a person cannot rename name\n",
    "\n",
    "you also need to put a @property decorator\n",
    "\n"
   ]
  },
  {
   "cell_type": "code",
   "execution_count": 112,
   "metadata": {},
   "outputs": [
    {
     "name": "stdout",
     "output_type": "stream",
     "text": [
      "5\n"
     ]
    },
    {
     "ename": "AttributeError",
     "evalue": "can't set attribute",
     "output_type": "error",
     "traceback": [
      "\u001b[0;31m---------------------------------------------------------------------------\u001b[0m",
      "\u001b[0;31mAttributeError\u001b[0m                            Traceback (most recent call last)",
      "\u001b[1;32m/Users/rodrigoburberg/Desktop/fastapi_social_mdia/object_oriented.ipynb Cell 45\u001b[0m line \u001b[0;36m1\n\u001b[1;32m     <a href='vscode-notebook-cell:/Users/rodrigoburberg/Desktop/fastapi_social_mdia/object_oriented.ipynb#Y113sZmlsZQ%3D%3D?line=10'>11</a>\u001b[0m obj \u001b[39m=\u001b[39m MyClass()\n\u001b[1;32m     <a href='vscode-notebook-cell:/Users/rodrigoburberg/Desktop/fastapi_social_mdia/object_oriented.ipynb#Y113sZmlsZQ%3D%3D?line=11'>12</a>\u001b[0m \u001b[39mprint\u001b[39m(obj\u001b[39m.\u001b[39mprivate_attr)  \u001b[39m# Output: 5\u001b[39;00m\n\u001b[0;32m---> <a href='vscode-notebook-cell:/Users/rodrigoburberg/Desktop/fastapi_social_mdia/object_oriented.ipynb#Y113sZmlsZQ%3D%3D?line=12'>13</a>\u001b[0m obj\u001b[39m.\u001b[39mprivate_attr \u001b[39m=\u001b[39m \u001b[39m10\u001b[39m\n",
      "\u001b[0;31mAttributeError\u001b[0m: can't set attribute"
     ]
    }
   ],
   "source": [
    "#example\n",
    "#this gives an error bc it is not meant to change\n",
    "\n",
    "class MyClass:\n",
    "    def __init__(self):\n",
    "        self._private_attr = 5\n",
    "\n",
    "    @property\n",
    "    def private_attr(self):\n",
    "        return self._private_attr\n",
    "\n",
    "obj = MyClass()\n",
    "print(obj.private_attr)  # Output: 5\n",
    "obj.private_attr = 10    # This will raise an AttributeError\n"
   ]
  },
  {
   "cell_type": "markdown",
   "metadata": {},
   "source": [
    "abstraction = hiding details to make it easier to work with \n",
    "\n",
    "polymorphism = ability of different types to be processed as a type of a common super class at high levels of abstraction\n",
    "\n",
    "Benefits of polymorphism:\n",
    "\n",
    "- It enhances flexibility and maintainability of the code.\n",
    "- It allows objects to be treated as instances of their parent class, which facilitates the decoupling of code components.\n",
    "- It supports the creation of new types without requiring the modification of existing functions."
   ]
  },
  {
   "cell_type": "code",
   "execution_count": 114,
   "metadata": {},
   "outputs": [
    {
     "name": "stdout",
     "output_type": "stream",
     "text": [
      "Some generic sound\n",
      "Bark\n",
      "Meow\n"
     ]
    }
   ],
   "source": [
    "#example \n",
    "\n",
    "class Animal:\n",
    "    def make_sound(self):\n",
    "        return \"Some generic sound\"\n",
    "\n",
    "class Dog(Animal):\n",
    "    def make_sound(self):\n",
    "        return \"Bark\"\n",
    "\n",
    "class Cat(Animal):\n",
    "    def make_sound(self):\n",
    "        return \"Meow\"\n",
    "\n",
    "# Usage:\n",
    "animals = [Animal(), Dog(), Cat()]\n",
    "for animal in animals:\n",
    "    print(animal.make_sound())  # Output: Bark, Meow\n"
   ]
  },
  {
   "cell_type": "code",
   "execution_count": null,
   "metadata": {},
   "outputs": [],
   "source": []
  }
 ],
 "metadata": {
  "kernelspec": {
   "display_name": "Python 3",
   "language": "python",
   "name": "python3"
  },
  "language_info": {
   "codemirror_mode": {
    "name": "ipython",
    "version": 3
   },
   "file_extension": ".py",
   "mimetype": "text/x-python",
   "name": "python",
   "nbconvert_exporter": "python",
   "pygments_lexer": "ipython3",
   "version": "3.8.18"
  },
  "orig_nbformat": 4
 },
 "nbformat": 4,
 "nbformat_minor": 2
}
